{
 "cells": [
  {
   "cell_type": "markdown",
   "metadata": {
    "slideshow": {
     "slide_type": "subslide"
    }
   },
   "source": [
    "# Led usage with UDP"
   ]
  },
  {
   "cell_type": "code",
   "execution_count": null,
   "metadata": {},
   "outputs": [
    {
     "name": "stdout",
     "output_type": "stream",
     "text": [
      "STARTING ... \n",
      "CONNECTED WITH  ('raspThomasAmbrogini.local', 8010)\n",
      "console  STARTS :\n",
      "on\n",
      "console  D= : on\n",
      "on\n",
      "forward  on\n",
      "off\n",
      "off\n",
      "forward  off\n",
      "on\n",
      "on\n",
      "forward  on\n",
      "off\n",
      "off\n",
      "forward  off\n",
      "on\n",
      "on\n",
      "forward  on\n",
      "off\n",
      "off\n",
      "forward  off\n"
     ]
    }
   ],
   "source": [
    "##############################################################\n",
    "# TCP-Send a msg to Led on 8010\n",
    "##############################################################\n",
    "import socket\n",
    "import time\n",
    "\n",
    "localIP        = '127.0.0.1'\n",
    "localPort      = 20001\n",
    "bufferSize     = 1024\n",
    "\n",
    "hostAddress     = 'raspThomasAmbrogini.local'\n",
    "port           = 8010\n",
    "ledOn          = \"on\"\n",
    "ledOff         = \"off\"\n",
    "msg            = ''\n",
    "serverAddressPort = (hostAddress, port)\n",
    "\n",
    "sock          = socket.socket(socket.AF_INET, socket.SOCK_STREAM)\n",
    "UDPClientSocket = socket.socket(family=socket.AF_INET, type=socket.SOCK_DGRAM)\n",
    "\n",
    "def connect(port) :\n",
    "    serverAddressPort   = (hostAddress, port)\n",
    "    print(\"CONNECTED WITH \", serverAddressPort)\n",
    "\n",
    "def terminate() :\n",
    "    UDPClientSocket.close()    #qak infrastr receives a msg null\n",
    "    print(\"BYE\")\n",
    "\n",
    "def forward( message ) :\n",
    "    print(\"forward \", message)\n",
    "    msg = message + \"\\n\"\n",
    "    byt=message.encode()    #required in Python3\n",
    "    UDPClientSocket.sendto(byt, serverAddressPort)\n",
    "\n",
    "def console() :  \n",
    "    print(\"console  STARTS :\"   )\n",
    "    cmd =  str( input() )\n",
    "    print(\"console  D= :\" , cmd  )\n",
    "    while( cmd != \"q\"  ) :\n",
    "        msg = cmd\n",
    "        print( msg )\n",
    "        forward( msg )\n",
    "        cmd =  str(input())\n",
    "        \n",
    "     \n",
    "##################################################\n",
    "\n",
    "\n",
    "print(\"STARTING ... \")\n",
    "connect(port)\n",
    "console()"
   ]
  },
  {
   "cell_type": "code",
   "execution_count": null,
   "metadata": {},
   "outputs": [],
   "source": []
  },
  {
   "cell_type": "code",
   "execution_count": null,
   "metadata": {},
   "outputs": [],
   "source": []
  }
 ],
 "metadata": {
  "kernelspec": {
   "display_name": "Python 3",
   "language": "python",
   "name": "python3"
  },
  "language_info": {
   "codemirror_mode": {
    "name": "ipython",
    "version": 3
   },
   "file_extension": ".py",
   "mimetype": "text/x-python",
   "name": "python",
   "nbconvert_exporter": "python",
   "pygments_lexer": "ipython3",
   "version": "3.8.10"
  }
 },
 "nbformat": 4,
 "nbformat_minor": 2
}
