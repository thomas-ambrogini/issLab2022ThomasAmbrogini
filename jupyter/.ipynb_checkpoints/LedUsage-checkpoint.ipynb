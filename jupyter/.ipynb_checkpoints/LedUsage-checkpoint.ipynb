{
 "cells": [
  {
   "cell_type": "markdown",
   "metadata": {
    "slideshow": {
     "slide_type": "subslide"
    }
   },
   "source": [
    "# Console for RadarGui on TCP"
   ]
  },
  {
   "cell_type": "code",
   "execution_count": null,
   "metadata": {
    "scrolled": true
   },
   "outputs": [
    {
     "name": "stdout",
     "output_type": "stream",
     "text": [
      "STARTING ... \n",
      "CONNECTED WITH  ('192.168.1.10', 8010)\n",
      "console  STARTS :\n",
      "on\n",
      "console  D= : on\n",
      "on\n",
      "forward  on\n",
      "off\n",
      "off\n",
      "forward  off\n",
      "off\n",
      "off\n",
      "forward  off\n",
      "on\n",
      "on\n",
      "forward  on\n",
      "off\n",
      "off\n",
      "forward  off\n",
      "\n",
      "\n",
      "forward  \n",
      "\n",
      "\n",
      "forward  \n",
      "\n",
      "\n",
      "forward  \n",
      "\n",
      "\n",
      "forward  \n",
      "on\n",
      "on\n",
      "forward  on\n",
      "off\n",
      "off\n",
      "forward  off\n"
     ]
    }
   ],
   "source": [
    "##############################################################\n",
    "# TCP-Send a msg to Led on 8010\n",
    "##############################################################\n",
    "import socket\n",
    "import time\n",
    "\n",
    "hostAdress     = 'raspThomasAmbrogini.local'\n",
    "port           = 8010\n",
    "ledOn          = \"on\"\n",
    "ledOff         = \"off\"\n",
    "msg            = ''\n",
    "\n",
    "sock          = socket.socket(socket.AF_INET, socket.SOCK_STREAM)\n",
    "\n",
    "def connect(port) :\n",
    "    server_address = (hostAdress, port)\n",
    "    sock.connect(server_address)    \n",
    "    print(\"CONNECTED WITH \", server_address)\n",
    "\n",
    "def terminate() :\n",
    "    sock.close()    #qak infrastr receives a msg null\n",
    "    print(\"BYE\")\n",
    "\n",
    "def forward( message ) :\n",
    "    print(\"forward \", message)\n",
    "    msg = message + \"\\n\"\n",
    "    byt=msg.encode()    #required in Python3\n",
    "    sock.send(byt)\n",
    "\n",
    "def console() :  \n",
    "    print(\"console  STARTS :\"   )\n",
    "    cmd =  str( input() )\n",
    "    print(\"console  D= :\" , cmd  )\n",
    "    while( cmd != \"q\"  ) :\n",
    "        msg = cmd\n",
    "        print( msg )\n",
    "        forward( msg )\n",
    "        cmd =  str(input())\n",
    "     \n",
    "##################################################\n",
    "print(\"STARTING ... \")\n",
    "connect(port)\n",
    "console()"
   ]
  },
  {
   "cell_type": "code",
   "execution_count": 1,
   "metadata": {},
   "outputs": [
    {
     "ename": "NameError",
     "evalue": "name 'on' is not defined",
     "output_type": "error",
     "traceback": [
      "\u001b[0;31m---------------------------------------------------------------------------\u001b[0m",
      "\u001b[0;31mNameError\u001b[0m                                 Traceback (most recent call last)",
      "\u001b[0;32m<ipython-input-1-a09a968bf05a>\u001b[0m in \u001b[0;36m<module>\u001b[0;34m\u001b[0m\n\u001b[0;32m----> 1\u001b[0;31m \u001b[0mon\u001b[0m\u001b[0;34m\u001b[0m\u001b[0;34m\u001b[0m\u001b[0m\n\u001b[0m",
      "\u001b[0;31mNameError\u001b[0m: name 'on' is not defined"
     ]
    }
   ],
   "source": []
  }
 ],
 "metadata": {
  "kernelspec": {
   "display_name": "Python 3",
   "language": "python",
   "name": "python3"
  },
  "language_info": {
   "codemirror_mode": {
    "name": "ipython",
    "version": 3
   },
   "file_extension": ".py",
   "mimetype": "text/x-python",
   "name": "python",
   "nbconvert_exporter": "python",
   "pygments_lexer": "ipython3",
   "version": "3.8.10"
  }
 },
 "nbformat": 4,
 "nbformat_minor": 2
}
